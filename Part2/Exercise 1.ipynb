{
 "cells": [
  {
   "cell_type": "code",
   "execution_count": null,
   "metadata": {
    "collapsed": false
   },
   "outputs": [],
   "source": [
    "from IPython.html import widgets\n",
    "from IPython.utils.traitlets import link\n",
    "from IPython.display import display"
   ]
  },
  {
   "cell_type": "markdown",
   "metadata": {},
   "source": [
    "List of widgets:"
   ]
  },
  {
   "cell_type": "code",
   "execution_count": 2,
   "metadata": {
    "collapsed": false
   },
   "outputs": [
    {
     "data": {
      "text/plain": [
       "['Accordion',\n",
       " 'AccordionWidget',\n",
       " 'BoundedFloatText',\n",
       " 'BoundedFloatTextWidget',\n",
       " 'BoundedIntText',\n",
       " 'BoundedIntTextWidget',\n",
       " 'Box',\n",
       " 'Button',\n",
       " 'ButtonWidget',\n",
       " 'CallbackDispatcher',\n",
       " 'Checkbox',\n",
       " 'CheckboxWidget',\n",
       " 'Color',\n",
       " 'ContainerWidget',\n",
       " 'DOMWidget',\n",
       " 'Dropdown',\n",
       " 'DropdownWidget',\n",
       " 'FlexBox',\n",
       " 'FloatProgress',\n",
       " 'FloatProgressWidget',\n",
       " 'FloatRangeSlider',\n",
       " 'FloatSlider',\n",
       " 'FloatSliderWidget',\n",
       " 'FloatText',\n",
       " 'FloatTextWidget',\n",
       " 'HBox',\n",
       " 'HTML',\n",
       " 'HTMLWidget',\n",
       " 'Image',\n",
       " 'ImageWidget',\n",
       " 'IntProgress',\n",
       " 'IntProgressWidget',\n",
       " 'IntRangeSlider',\n",
       " 'IntSlider',\n",
       " 'IntSliderWidget',\n",
       " 'IntText',\n",
       " 'IntTextWidget',\n",
       " 'Latex',\n",
       " 'LatexWidget',\n",
       " 'Output',\n",
       " 'RadioButtons',\n",
       " 'RadioButtonsWidget',\n",
       " 'Select',\n",
       " 'SelectMultiple',\n",
       " 'SelectWidget',\n",
       " 'Tab',\n",
       " 'TabWidget',\n",
       " 'Text',\n",
       " 'TextWidget',\n",
       " 'Textarea',\n",
       " 'TextareaWidget',\n",
       " 'ToggleButton',\n",
       " 'ToggleButtonWidget',\n",
       " 'ToggleButtons',\n",
       " 'ToggleButtonsWidget',\n",
       " 'VBox',\n",
       " 'Widget',\n",
       " '__builtins__',\n",
       " '__doc__',\n",
       " '__file__',\n",
       " '__name__',\n",
       " '__package__',\n",
       " '__path__',\n",
       " '__warningregistry__',\n",
       " 'fixed',\n",
       " 'interact',\n",
       " 'interact_manual',\n",
       " 'interaction',\n",
       " 'interactive',\n",
       " 'jsdlink',\n",
       " 'jslink',\n",
       " 'register',\n",
       " 'trait_types',\n",
       " 'warn_explicit',\n",
       " 'widget',\n",
       " 'widget_bool',\n",
       " 'widget_box',\n",
       " 'widget_button',\n",
       " 'widget_float',\n",
       " 'widget_image',\n",
       " 'widget_int',\n",
       " 'widget_link',\n",
       " 'widget_output',\n",
       " 'widget_selection',\n",
       " 'widget_selectioncontainer',\n",
       " 'widget_string']"
      ]
     },
     "execution_count": 2,
     "metadata": {},
     "output_type": "execute_result"
    }
   ],
   "source": [
    "dir(widgets)"
   ]
  },
  {
   "cell_type": "markdown",
   "metadata": {},
   "source": [
    "Display and link the values of two widgets.  You can use the `link` method in the `traitlets` namespace.  Syntax `link((widget1, 'value'), (widget2, 'value'))"
   ]
  },
  {
   "cell_type": "code",
   "execution_count": null,
   "metadata": {
    "collapsed": true
   },
   "outputs": [],
   "source": []
  },
  {
   "cell_type": "markdown",
   "metadata": {},
   "source": [
    "Solution:"
   ]
  },
  {
   "cell_type": "code",
   "execution_count": null,
   "metadata": {
    "collapsed": false
   },
   "outputs": [],
   "source": [
    "# %load sln/1.py\n",
    "slider = widgets.FloatSlider(margin=5)\n",
    "text = widgets.FloatText(margin=5)\n",
    "widgetlink = link((slider, 'value'), (text, 'value'))\n",
    "display(slider, text)\n"
   ]
  }
 ],
 "metadata": {
  "kernelspec": {
   "display_name": "Python 2",
   "language": "python",
   "name": "python2"
  },
  "language_info": {
   "codemirror_mode": {
    "name": "ipython",
    "version": 2
   },
   "file_extension": ".py",
   "mimetype": "text/x-python",
   "name": "python",
   "nbconvert_exporter": "python",
   "pygments_lexer": "ipython2",
   "version": "2.7.9"
  }
 },
 "nbformat": 4,
 "nbformat_minor": 0
}
