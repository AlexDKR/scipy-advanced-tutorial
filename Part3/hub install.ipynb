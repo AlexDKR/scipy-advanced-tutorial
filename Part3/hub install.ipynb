{
 "cells": [
  {
   "cell_type": "markdown",
   "metadata": {},
   "source": [
    "#JupyterHub Installation"
   ]
  },
  {
   "cell_type": "markdown",
   "metadata": {},
   "source": [
    "##What is JupyterHub?"
   ]
  },
  {
   "cell_type": "markdown",
   "metadata": {},
   "source": [
    "JupyterHub brings multi-user support to the Jupyter Notebook.\n",
    "\n",
    "More specifically, JupyterHub is a multi-user server that manages and proxies multiple instances of the single-user IPython Jupyter notebook server. \n",
    "\n",
    "![](images/hub.svg)"
   ]
  },
  {
   "cell_type": "markdown",
   "metadata": {},
   "source": [
    "##What does JupyterHub solve?"
   ]
  },
  {
   "cell_type": "markdown",
   "metadata": {},
   "source": [
    "If you have a multi-user authentication system in place already, JupyterHub lets you use that authentication for controlling Jupyter Notebook access.  For example, a school’s authentication system can be used to allow students to log into the JupyterHub using their student credentials.  The individual Notebook server will then run using the student’s credentials and only have access to resources that the student has access to."
   ]
  },
  {
   "cell_type": "markdown",
   "metadata": {},
   "source": [
    "##Pieces"
   ]
  },
  {
   "cell_type": "markdown",
   "metadata": {},
   "source": [
    "Three pieces are required for the hub to work: the configurable http proxy, the hub itself, and single Jupyter Notebook servers."
   ]
  },
  {
   "cell_type": "markdown",
   "metadata": {},
   "source": [
    "The configurable http proxy is the entry point for all REST requests.  Requests to the hub get proxied to the hub.  The hub handles authentication.  Once the user authenticates and requests a notebook server, the hub launches the notebook server and registers a redirect in the configurable http proxy for that user’s name.  Requests under that user’s name are then redirected to the single notebook server, instead of the hub."
   ]
  },
  {
   "cell_type": "markdown",
   "metadata": {},
   "source": [
    "##Javascript"
   ]
  },
  {
   "cell_type": "markdown",
   "metadata": {},
   "source": [
    "The configurable HTTP proxy is written in JavaScript.  However, it does not run inside a web browser, instead it runs in a JavaScript parser named node.js.  Node.js is a standalone JavaScript parser and environment that allows for browserless JavaScript development."
   ]
  },
  {
   "cell_type": "markdown",
   "metadata": {},
   "source": [
    "Like the Python community, the JavaScript community has it’s own package management solution.  NPM, short for Node Package Manager, is the package manager used to install node.js libraries.  NPM behaves differently than Python packaging in that packages are downloaded and installed in the current working directory, unless the user explicitly requests for the package to be installed globally using the `-g` flag."
   ]
  },
  {
   "cell_type": "markdown",
   "metadata": {},
   "source": [
    "When developing browser facing JavaScript, there is another package manager called Bower.  Bower differs from NPM in that Bower downloads and installs packages in a flat structure, whereas NPM downloads and installs packages in a hierarchy."
   ]
  },
  {
   "cell_type": "markdown",
   "metadata": {},
   "source": [
    "##Installing the Hub"
   ]
  },
  {
   "cell_type": "markdown",
   "metadata": {},
   "source": [
    "The first step is to install Node.  You can find an installer for your operating system at their website, https://nodejs.org/.  NPM will automatically install with Node.\n",
    "\n",
    "Next, install the configurable http proxy globally by running `sudo npm install -g configurable-http-proxy`.\n",
    "\n",
    "Next, clone the JupyterHub repository, `git clone https://github.com/jupyter/jupyterhub.git`\n",
    "\n",
    "Install JupyterHub’s JavaScript dependencies.  First navigate into the freshly cloned repository, `cd jupyterhub`.  Then run `npm install` followed by `$(npm bin)/bower install`.\n",
    "\n",
    "Install JupyterHub’s Python dependencies by running `pip3 install -r requirements.txt`.\n",
    "\n",
    "Install JupyterHub by running `pip3 install .`\n",
    "\n",
    "If everything worked, you should be able to launch JupyterHub by running `jupyterhub`.  Open a web browser and navigate to `http://localhost:8000/` to test.  You should be able to login using local system credentials."
   ]
  },
  {
   "cell_type": "markdown",
   "metadata": {},
   "source": [
    "##Custom authentication"
   ]
  },
  {
   "cell_type": "markdown",
   "metadata": {},
   "source": [
    "By default JupyterHub uses PAM (pluggable authentication module) to authenticate users.  However, the authentication is configurable.  A popular replacement for PAM is the GitHub OAuth plugin, which allows uses to sign in using their GitHub account.\n",
    "\n",
    "To install GitHub OAuth, first clone the repository `git clone https://github.com/jupyter/oauthenticator.git`.\n",
    "\n",
    "Then navigate into the new directory `cd oauthenticator` and install the requirements using `pip3 install -r requirements.txt`.  Next install the oauthenticator itself by running `python setup.py install`.\n",
    "\n",
    "Next, you need to register a GitHub application.  The important part here is that the Authorization callback URL is `http://localhost:8000/hub/oauth_callback`. \n",
    "Navigate to the directory that you will launch jupyterhub from, I suggest your home directory `cd ~`.  Create a hub configuration file by running `jupyterhub --generate-config`.  This should create a `jupyterhub_config.py` in the current directoy.  Anytime you launch the hub, it looks in the current directory to see if a file by that name exists.  If it does, it loads it as the configuration file.  \n",
    "\n",
    "Open the new configuration file and add the following lines\n",
    "```\n",
    "c.JupyterHub.authenticator_class = 'oauthenticator.GitHubOAuthenticator'\n",
    "c.GitHubOAuthenticator.oauth_callback_url = ''\n",
    "c.GitHubOAuthenticator.github_client_id = ''\n",
    "c.GitHubOAuthenticator.github_client_secret = ''\n",
    "```\n",
    "The last 3 values you will need to get from the GitHub application you set-up earlier.\n",
    "Now run JupyterHub and try logging in.  You should be able to log on, but when you try to launch a server, you’ll probably see an error.  This is because a local user by the same name of the GitHub account isn’t registered on your machine."
   ]
  },
  {
   "cell_type": "markdown",
   "metadata": {},
   "source": [
    "##Custom spawner"
   ]
  },
  {
   "cell_type": "markdown",
   "metadata": {},
   "source": [
    "To test the GitHub authentication completely, you will install a custom spawner which launches the single user servers in docker containers.  This allows any user to login safely without causing harm to your machine beyond what can be done in the container.\n",
    "\n",
    "First clone the dockerspawner by running `git clone https://github.com/jupyter/dockerspawner.git` and then navigate into the directory `cd dockerspawner`.\n",
    "\n",
    "Install the dependencies `pip3 install -r requirements.txt` and then the project itself `python setup.py install`.\n",
    "\n",
    "Now, open the jupyterhub_config.py file that you created earlier, and add the following line to it `c.JupyterHub.spawner_class = 'dockerspawner.DockerSpawner'`.  Save an close the file.\n",
    "\n",
    "Install boot2docker via the instructions for your operating system at https://docs.docker.com/installation.  Start boot2docker by running `boot2docker init` and `boot2docker up`.  You should see output that reads `To connect the Docker client to the Docker daemon, please set` and below it will be some commands.  Run those commands.  Then run `docker pull jupyter/singleuser` to download the singleuser server image.\n",
    "\n",
    "You should now be able to run jupyterhub from your home directory (or wherever your config file is) and login in using GitHub credentials to launch a server inside a docker container."
   ]
  }
 ],
 "metadata": {
  "kernelspec": {
   "display_name": "Python 3",
   "language": "python",
   "name": "python3"
  },
  "language_info": {
   "codemirror_mode": {
    "name": "ipython",
    "version": 3
   },
   "file_extension": ".py",
   "mimetype": "text/x-python",
   "name": "python",
   "nbconvert_exporter": "python",
   "pygments_lexer": "ipython3",
   "version": "3.4.0"
  }
 },
 "nbformat": 4,
 "nbformat_minor": 0
}
